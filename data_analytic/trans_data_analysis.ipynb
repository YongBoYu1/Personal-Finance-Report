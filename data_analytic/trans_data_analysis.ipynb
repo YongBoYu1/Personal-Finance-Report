{
 "cells": [
  {
   "cell_type": "code",
   "execution_count": 2,
   "metadata": {},
   "outputs": [],
   "source": [
    "import pandas as pd\n",
    "import data_util as du\n",
    "import datetime"
   ]
  },
  {
   "cell_type": "code",
   "execution_count": 2,
   "metadata": {},
   "outputs": [],
   "source": [
    "import warnings\n",
    "warnings.filterwarnings('ignore')\n",
    "\n",
    "\n",
    "from IPython.core.interactiveshell import InteractiveShell\n",
    "InteractiveShell.ast_node_interactivity = \"all\""
   ]
  },
  {
   "cell_type": "code",
   "execution_count": 3,
   "metadata": {},
   "outputs": [],
   "source": [
    "# Read the data from the CSV file\n",
    "data = pd.read_csv('../data/transactions.csv')"
   ]
  },
  {
   "cell_type": "code",
   "execution_count": null,
   "metadata": {},
   "outputs": [],
   "source": [
    "data[data['Month'] current_month - 1]"
   ]
  },
  {
   "cell_type": "code",
   "execution_count": 11,
   "metadata": {},
   "outputs": [
    {
     "name": "stdout",
     "output_type": "stream",
     "text": [
      "1818.52 -2977.3599999999997 -1158.8399999999997\n"
     ]
    }
   ],
   "source": [
    "\n",
    "# Basic Descriptive Statistics(previous month):\n",
    "current_month = datetime.datetime.now().month\n",
    "previous_month_data = data[data['Month'] ==current_month - 1]\n",
    "\n",
    "# Calculate total income (sum of positive amounts)\n",
    "total_income = previous_month_data[previous_month_data['Amount'] > 0]['Amount'].sum()\n",
    "\n",
    "# Calculate total spending (sum of negative amounts)\n",
    "total_spending = previous_month_data[previous_month_data['Amount'] < 0]['Amount'].sum()\n",
    "\n",
    "# Determine net cash flow (income - spending)\n",
    "net_cash_flow = total_income + total_spending\n",
    "\n",
    "print(total_income, total_spending, net_cash_flow)"
   ]
  },
  {
   "cell_type": "code",
   "execution_count": null,
   "metadata": {},
   "outputs": [],
   "source": [
    "# Time-based Analysis:\n",
    "# Group transactions by month\n",
    "monthly_data = data.groupby('Year','Month').sum()\n",
    "\n",
    "# Calculate and plot spending trends over time\n",
    "monthly_data['Amount'].plot(kind='line')\n",
    "\n",
    "# Identify any seasonal patterns in spending or income\n",
    "# You can analyze the line plot to identify any recurring patterns or trends in spending over time."
   ]
  },
  {
   "cell_type": "code",
   "execution_count": null,
   "metadata": {},
   "outputs": [],
   "source": [
    "# Data Cleaning and Preparation:\n",
    "\n",
    "# Ensure all dates are in a consistent format\n",
    "# Verify that all amounts are correctly processed (as we've done)\n",
    "# Check for and handle any missing values\n",
    "\n",
    "\n",
    "\n",
    "\n",
    "\n",
    "# Time-based Analysis:\n",
    "\n",
    "# Group transactions by month or week\n",
    "# Calculate and plot spending trends over time\n",
    "# Identify any seasonal patterns in spending or income\n",
    "\n",
    "\n",
    "# Category Analysis:\n",
    "\n",
    "# If you have category data, group transactions by category\n",
    "# Calculate and visualize spending by category\n",
    "# Identify top spending categories\n",
    "\n",
    "\n",
    "# Transaction Frequency Analysis:\n",
    "\n",
    "# Count the number of transactions per type (withdraw, deposit, credit)\n",
    "# Analyze the frequency of transactions over time\n",
    "\n",
    "\n",
    "# Average Transaction Analysis:\n",
    "\n",
    "# Calculate average transaction amounts for each type\n",
    "# Identify any unusually large transactions\n",
    "\n",
    "\n",
    "# Credit Usage Analysis:\n",
    "\n",
    "# Analyze the ratio of credit spending to total spending\n",
    "# Track credit utilization over time\n",
    "\n",
    "\n",
    "# Budget Comparison:\n",
    "\n",
    "# If you have budget data, compare actual spending to budgeted amounts\n",
    "# Calculate variances and identify areas of overspending\n",
    "\n",
    "\n",
    "# Savings Rate Analysis:\n",
    "\n",
    "# Calculate the savings rate (savings / income)\n",
    "# Track how the savings rate changes over time\n",
    "\n",
    "\n",
    "# Visualizations:\n",
    "\n",
    "# Create line charts for spending and income trends\n",
    "# Use pie charts or bar graphs for category breakdowns\n",
    "# Implement heat maps for spending patterns across time\n",
    "\n",
    "\n",
    "\n",
    "# Here's a basic example of how you might start this analysis in PySpark:"
   ]
  }
 ],
 "metadata": {
  "kernelspec": {
   "display_name": "py10",
   "language": "python",
   "name": "python3"
  },
  "language_info": {
   "codemirror_mode": {
    "name": "ipython",
    "version": 3
   },
   "file_extension": ".py",
   "mimetype": "text/x-python",
   "name": "python",
   "nbconvert_exporter": "python",
   "pygments_lexer": "ipython3",
   "version": "3.10.13"
  }
 },
 "nbformat": 4,
 "nbformat_minor": 2
}
